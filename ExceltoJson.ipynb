{
  "cells": [
    {
      "cell_type": "code",
      "source": [
        "import csv \r\n",
        "import json \r\n",
        "\r\n",
        "def csv_to_json(csvFilePath, jsonFilePath):\r\n",
        "    jsonArray = []\r\n",
        "      \r\n",
        "    #read csv file\r\n",
        "    with open(csvFilePath, encoding='utf-8') as csvf: \r\n",
        "        #load csv file data using csv library's dictionary reader\r\n",
        "        csvReader = csv.DictReader(csvf) \r\n",
        "\r\n",
        "        #convert each csv row into python dict\r\n",
        "        for row in csvReader: \r\n",
        "            #add this python dict to json array\r\n",
        "            jsonArray.append(row)\r\n",
        "  \r\n",
        "    #convert python jsonArray to JSON String and write to file\r\n",
        "    with open(jsonFilePath, 'w', encoding='utf-8') as jsonf: \r\n",
        "        jsonString = json.dumps(jsonArray, indent=4)\r\n",
        "        jsonf.write(jsonString)\r\n",
        "          \r\n",
        "          \r\n",
        "csvFilePath = r'Insurance_Zurich.csv'\r\n",
        "jsonFilePath = r'exdata.json'\r\n",
        "csv_to_json(csvFilePath, jsonFilePath)"
      ],
      "outputs": [],
      "execution_count": 9,
      "metadata": {
        "collapsed": true,
        "jupyter": {
          "source_hidden": false,
          "outputs_hidden": false
        },
        "nteract": {
          "transient": {
            "deleting": false
          }
        },
        "gather": {
          "logged": 1629417947797
        }
      }
    },
    {
      "cell_type": "code",
      "source": [
        "json.p"
      ],
      "outputs": [
        {
          "output_type": "error",
          "ename": "NameError",
          "evalue": "name 'jsonString' is not defined",
          "traceback": [
            "\u001b[0;31m---------------------------------------------------------------------------\u001b[0m",
            "\u001b[0;31mNameError\u001b[0m                                 Traceback (most recent call last)",
            "\u001b[0;32m<ipython-input-11-4f41b2a91e2c>\u001b[0m in \u001b[0;36m<module>\u001b[0;34m\u001b[0m\n\u001b[0;32m----> 1\u001b[0;31m \u001b[0mjsonString\u001b[0m\u001b[0;34m\u001b[0m\u001b[0;34m\u001b[0m\u001b[0m\n\u001b[0m",
            "\u001b[0;31mNameError\u001b[0m: name 'jsonString' is not defined"
          ]
        }
      ],
      "execution_count": 11,
      "metadata": {
        "collapsed": true,
        "jupyter": {
          "source_hidden": false,
          "outputs_hidden": false
        },
        "nteract": {
          "transient": {
            "deleting": false
          }
        }
      }
    },
    {
      "cell_type": "code",
      "source": [
        "import excel2json\r\n",
        "\r\n",
        "excel2json.convert_from_file('covid19_vaccinations.xlsx')"
      ],
      "outputs": [
        {
          "output_type": "stream",
          "name": "stdout",
          "text": [
            "Excel xlsx file; not supported\n",
            "'NoneType' object is not iterable\n"
          ]
        }
      ],
      "execution_count": 4,
      "metadata": {
        "collapsed": true,
        "jupyter": {
          "source_hidden": false,
          "outputs_hidden": false
        },
        "nteract": {
          "transient": {
            "deleting": false
          }
        },
        "gather": {
          "logged": 1629412996473
        }
      }
    },
    {
      "cell_type": "code",
      "source": [],
      "outputs": [],
      "execution_count": null,
      "metadata": {
        "collapsed": true,
        "jupyter": {
          "source_hidden": false,
          "outputs_hidden": false
        },
        "nteract": {
          "transient": {
            "deleting": false
          }
        }
      }
    }
  ],
  "metadata": {
    "kernelspec": {
      "name": "python3-azureml",
      "language": "python",
      "display_name": "Python 3.6 - AzureML"
    },
    "language_info": {
      "name": "python",
      "version": "3.6.9",
      "mimetype": "text/x-python",
      "codemirror_mode": {
        "name": "ipython",
        "version": 3
      },
      "pygments_lexer": "ipython3",
      "nbconvert_exporter": "python",
      "file_extension": ".py"
    },
    "kernel_info": {
      "name": "python3-azureml"
    },
    "microsoft": {
      "host": {
        "AzureML": {
          "notebookHasBeenCompleted": true
        }
      }
    },
    "nteract": {
      "version": "nteract-front-end@1.0.0"
    }
  },
  "nbformat": 4,
  "nbformat_minor": 2
}